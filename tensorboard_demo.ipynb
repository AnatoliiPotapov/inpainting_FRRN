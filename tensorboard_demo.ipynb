{
 "cells": [
  {
   "cell_type": "code",
   "execution_count": 15,
   "metadata": {},
   "outputs": [],
   "source": [
    "#!pip uninstall tensorflow -y\n",
    "#!pip install tensorflow==2.0.0-beta1\n",
    "#!pip uninstall torch -y\n",
    "#!pip install torch\n",
    "#!pip install future"
   ]
  },
  {
   "cell_type": "code",
   "execution_count": 14,
   "metadata": {},
   "outputs": [
    {
     "data": {
      "text/plain": [
       "'2.0.0-beta1'"
      ]
     },
     "execution_count": 14,
     "metadata": {},
     "output_type": "execute_result"
    }
   ],
   "source": [
    "import tensorflow as tf\n",
    "tf.__version__"
   ]
  },
  {
   "cell_type": "code",
   "execution_count": 7,
   "metadata": {},
   "outputs": [
    {
     "name": "stderr",
     "output_type": "stream",
     "text": [
      "WARNING:root:This caffe2 python run does not have GPU support. Will run in CPU only mode.\n"
     ]
    }
   ],
   "source": [
    "import torch\n",
    "import torchvision\n",
    "from torch.utils.tensorboard import SummaryWriter\n",
    "from torchvision import datasets, transforms"
   ]
  },
  {
   "cell_type": "code",
   "execution_count": 17,
   "metadata": {},
   "outputs": [],
   "source": [
    "tb_logs = '/Users/anatolijpotapov/.CMVolumes/Анатолий Потапов/tensorboard_demo'"
   ]
  },
  {
   "cell_type": "code",
   "execution_count": 22,
   "metadata": {},
   "outputs": [
    {
     "name": "stderr",
     "output_type": "stream",
     "text": [
      "\r",
      "0it [00:00, ?it/s]"
     ]
    },
    {
     "name": "stdout",
     "output_type": "stream",
     "text": [
      "Downloading http://yann.lecun.com/exdb/mnist/train-images-idx3-ubyte.gz to mnist_train/MNIST/raw/train-images-idx3-ubyte.gz\n"
     ]
    },
    {
     "name": "stderr",
     "output_type": "stream",
     "text": [
      " 97%|█████████▋| 9658368/9912422 [00:25<00:00, 2334251.77it/s]"
     ]
    },
    {
     "name": "stdout",
     "output_type": "stream",
     "text": [
      "Extracting mnist_train/MNIST/raw/train-images-idx3-ubyte.gz\n"
     ]
    },
    {
     "name": "stderr",
     "output_type": "stream",
     "text": [
      "\n",
      "0it [00:00, ?it/s]\u001b[A"
     ]
    },
    {
     "name": "stdout",
     "output_type": "stream",
     "text": [
      "Downloading http://yann.lecun.com/exdb/mnist/train-labels-idx1-ubyte.gz to mnist_train/MNIST/raw/train-labels-idx1-ubyte.gz\n"
     ]
    },
    {
     "name": "stderr",
     "output_type": "stream",
     "text": [
      "\n",
      "  0%|          | 0/28881 [00:00<?, ?it/s]\u001b[A\n",
      " 57%|█████▋    | 16384/28881 [00:00<00:00, 128568.50it/s]\u001b[A\n",
      "32768it [00:00, 81791.62it/s]                            \u001b[A\n",
      "0it [00:00, ?it/s]\u001b[A"
     ]
    },
    {
     "name": "stdout",
     "output_type": "stream",
     "text": [
      "Extracting mnist_train/MNIST/raw/train-labels-idx1-ubyte.gz\n",
      "Downloading http://yann.lecun.com/exdb/mnist/t10k-images-idx3-ubyte.gz to mnist_train/MNIST/raw/t10k-images-idx3-ubyte.gz\n"
     ]
    },
    {
     "name": "stderr",
     "output_type": "stream",
     "text": [
      "\n",
      "  0%|          | 0/1648877 [00:00<?, ?it/s]\u001b[A\n",
      "  1%|          | 16384/1648877 [00:00<00:13, 119451.68it/s]\u001b[A\n",
      "  2%|▏         | 40960/1648877 [00:00<00:11, 135524.99it/s]\u001b[A\n",
      "  6%|▌         | 98304/1648877 [00:00<00:09, 171663.14it/s]\u001b[A\n",
      " 12%|█▏        | 196608/1648877 [00:00<00:06, 224996.46it/s]\u001b[A\n",
      " 20%|█▉        | 327680/1648877 [00:00<00:04, 293141.05it/s]\u001b[A\n",
      " 23%|██▎       | 385024/1648877 [00:01<00:03, 317632.39it/s]\u001b[A\n",
      " 38%|███▊      | 630784/1648877 [00:01<00:02, 423383.55it/s]\u001b[A\n",
      " 44%|████▍     | 729088/1648877 [00:01<00:01, 465625.94it/s]\u001b[A\n",
      " 53%|█████▎    | 868352/1648877 [00:01<00:01, 576430.88it/s]\u001b[A\n",
      " 59%|█████▊    | 966656/1648877 [00:01<00:01, 620510.23it/s]\u001b[A\n",
      " 65%|██████▍   | 1064960/1648877 [00:01<00:00, 658128.15it/s]\u001b[A\n",
      " 70%|███████   | 1155072/1648877 [00:01<00:00, 707351.52it/s]\u001b[A\n",
      " 76%|███████▌  | 1253376/1648877 [00:01<00:00, 732247.98it/s]\u001b[A\n",
      " 82%|████████▏ | 1359872/1648877 [00:02<00:00, 761264.26it/s]\u001b[A\n",
      " 88%|████████▊ | 1458176/1648877 [00:02<00:00, 760142.28it/s]\u001b[A\n",
      " 95%|█████████▍| 1564672/1648877 [00:02<00:00, 777909.21it/s]\u001b[A\n",
      "1654784it [00:02, 689109.19it/s]                             \u001b[A\n",
      "0it [00:00, ?it/s]\u001b[A"
     ]
    },
    {
     "name": "stdout",
     "output_type": "stream",
     "text": [
      "Extracting mnist_train/MNIST/raw/t10k-images-idx3-ubyte.gz\n",
      "Downloading http://yann.lecun.com/exdb/mnist/t10k-labels-idx1-ubyte.gz to mnist_train/MNIST/raw/t10k-labels-idx1-ubyte.gz\n"
     ]
    },
    {
     "name": "stderr",
     "output_type": "stream",
     "text": [
      "\n",
      "  0%|          | 0/4542 [00:00<?, ?it/s]\u001b[A\n",
      "8192it [00:00, 30241.24it/s]            \u001b[A"
     ]
    },
    {
     "name": "stdout",
     "output_type": "stream",
     "text": [
      "Extracting mnist_train/MNIST/raw/t10k-labels-idx1-ubyte.gz\n",
      "Processing...\n",
      "Done!\n"
     ]
    },
    {
     "name": "stderr",
     "output_type": "stream",
     "text": [
      "\r",
      "9920512it [00:40, 2334251.77it/s]                             "
     ]
    }
   ],
   "source": [
    "# Writer will output to ./runs/ directory by default\n",
    "writer = SummaryWriter(log_dir=tb_logs)\n",
    "\n",
    "transform = transforms.Compose([transforms.ToTensor(), transforms.Normalize((0.5,), (0.5,))])\n",
    "trainset = datasets.MNIST('mnist_train', train=True, download=True, transform=transform)\n",
    "trainloader = torch.utils.data.DataLoader(trainset, batch_size=64, shuffle=True)\n",
    "model = torchvision.models.resnet50(False)\n",
    "# Have ResNet model take in grayscale rather than RGB\n",
    "model.conv1 = torch.nn.Conv2d(1, 64, kernel_size=7, stride=2, padding=3, bias=False)\n",
    "images, labels = next(iter(trainloader))\n",
    "\n",
    "grid = torchvision.utils.make_grid(images)\n",
    "writer.add_image('images', grid, 0)\n",
    "writer.add_graph(model, images)\n",
    "writer.close()"
   ]
  }
 ],
 "metadata": {
  "kernelspec": {
   "display_name": "Python 3",
   "language": "python",
   "name": "python3"
  },
  "language_info": {
   "codemirror_mode": {
    "name": "ipython",
    "version": 3
   },
   "file_extension": ".py",
   "mimetype": "text/x-python",
   "name": "python",
   "nbconvert_exporter": "python",
   "pygments_lexer": "ipython3",
   "version": "3.7.2"
  }
 },
 "nbformat": 4,
 "nbformat_minor": 2
}
