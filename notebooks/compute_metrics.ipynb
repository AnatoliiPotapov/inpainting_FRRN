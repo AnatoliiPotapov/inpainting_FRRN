{
 "cells": [
  {
   "cell_type": "code",
   "execution_count": 14,
   "metadata": {},
   "outputs": [],
   "source": [
    "import re\n",
    "import os\n",
    "import glob\n",
    "import math\n",
    "import numpy as np\n",
    "from tqdm import tqdm\n",
    "from scipy.misc import imread"
   ]
  },
  {
   "cell_type": "code",
   "execution_count": 15,
   "metadata": {},
   "outputs": [],
   "source": [
    "# !pip install Pillow\n",
    "# !pip install scipy==1.1.0"
   ]
  },
  {
   "cell_type": "code",
   "execution_count": 16,
   "metadata": {},
   "outputs": [
    {
     "name": "stderr",
     "output_type": "stream",
     "text": [
      "100%|██████████| 801/801 [00:00<00:00, 552844.74it/s]\n"
     ]
    }
   ],
   "source": [
    "\"\"\"\n",
    "predictions_path = '../../Datasets/Huawei/DATASET_INPAINTING/train_gt'\n",
    "\n",
    "for filename in tqdm(os.listdir(predictions_path)):\n",
    "    if '_gt' in filename:\n",
    "        try:\n",
    "            os.rename(\n",
    "                os.path.join(predictions_path, filename),\n",
    "                os.path.join(predictions_path, re.sub('_gt','',filename))\n",
    "            )\n",
    "        except:\n",
    "            print('Problems with: ', filename)\n",
    "\"\"\""
   ]
  },
  {
   "cell_type": "code",
   "execution_count": 17,
   "metadata": {},
   "outputs": [],
   "source": [
    "predictions_path = '../../Datasets/Huawei/DATASET_INPAINTING/test'\n",
    "gt_path = '../../Datasets/Huawei/DATASET_INPAINTING/test_gt'"
   ]
  },
  {
   "cell_type": "code",
   "execution_count": 38,
   "metadata": {},
   "outputs": [],
   "source": [
    "def get_list_of_files(folder):\n",
    "    return glob.glob(os.path.join(folder,'*.png')) + glob.glob(os.path.join(folder,'*.jpg'))\n",
    "\n",
    "\n",
    "def psnr(y, x):\n",
    "    mse = np.mean((x.astype(np.float64) - y.astype(np.float64)) ** 2)\n",
    "    if mse == 0:\n",
    "        return math.inf\n",
    "    return 20 * math.log10(255.0 / math.sqrt(mse))\n",
    "\n",
    "\n",
    "def l1_loss(y, x):\n",
    "    return np.sum(np.abs(x / 256. - y / 256.)) / 3.  \n",
    "\n",
    "\n",
    "def compute_metrics(predictions_dir, gt_dir):\n",
    "    metrics = []\n",
    "    \n",
    "    filenames = [f.split('/')[-1] for f in get_list_of_files(predictions_dir)]\n",
    "    filenames_gt = [f.split('/')[-1] for f in get_list_of_files(gt_dir)]\n",
    "    assert set(filenames) == set(filenames_gt)\n",
    "    \n",
    "    for i, filename in enumerate(filenames):\n",
    "        prediction_image = imread(os.path.join(predictions_dir, filename))\n",
    "        gt_image = imread(os.path.join(gt_dir, filename))\n",
    "\n",
    "        metrics.append({\n",
    "            'filename': filename,\n",
    "            'psnr': psnr(prediction_image, gt_image),\n",
    "            'l1': l1_loss(prediction_image, gt_image)\n",
    "        })\n",
    "    \n",
    "    mean_psnr = round(np.mean([f['psnr'] for f in metrics]), 4)\n",
    "    mean_l1 = round(np.mean([f['l1'] for f in metrics]), 4)\n",
    "    \n",
    "    print(\n",
    "        \"PSNR: %.4f\" % mean_psnr,\n",
    "        \"L1: %.4f\" % mean_l1,\n",
    "    )\n",
    "\n",
    "    return mean_psnr, mean_l1, metrics"
   ]
  },
  {
   "cell_type": "code",
   "execution_count": 39,
   "metadata": {
    "scrolled": true
   },
   "outputs": [
    {
     "name": "stderr",
     "output_type": "stream",
     "text": [
      "/Users/anatolijpotapov/miniconda3/lib/python3.7/site-packages/ipykernel_launcher.py:24: DeprecationWarning: `imread` is deprecated!\n",
      "`imread` is deprecated in SciPy 1.0.0, and will be removed in 1.2.0.\n",
      "Use ``imageio.imread`` instead.\n",
      "/Users/anatolijpotapov/miniconda3/lib/python3.7/site-packages/ipykernel_launcher.py:25: DeprecationWarning: `imread` is deprecated!\n",
      "`imread` is deprecated in SciPy 1.0.0, and will be removed in 1.2.0.\n",
      "Use ``imageio.imread`` instead.\n"
     ]
    },
    {
     "name": "stdout",
     "output_type": "stream",
     "text": [
      "PSNR: 17.8172 L1: 11608.4084\n"
     ]
    }
   ],
   "source": [
    "mean_psnr, mean_l1, metrics = compute_metrics(predictions_dir, gt_dir)"
   ]
  }
 ],
 "metadata": {
  "kernelspec": {
   "display_name": "Python 3",
   "language": "python",
   "name": "python3"
  },
  "language_info": {
   "codemirror_mode": {
    "name": "ipython",
    "version": 3
   },
   "file_extension": ".py",
   "mimetype": "text/x-python",
   "name": "python",
   "nbconvert_exporter": "python",
   "pygments_lexer": "ipython3",
   "version": "3.7.2"
  }
 },
 "nbformat": 4,
 "nbformat_minor": 2
}
